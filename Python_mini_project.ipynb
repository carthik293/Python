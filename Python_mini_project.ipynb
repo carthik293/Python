{
 "cells": [
  {
   "cell_type": "markdown",
   "metadata": {},
   "source": [
    "# <center>PGP Data Science Engineering</center>\n",
    "## <center>Introduction to Programming – Mini Project:</center>\n"
   ]
  },
  {
   "cell_type": "markdown",
   "metadata": {},
   "source": [
    "### Problem 1:\n",
    "\n",
    "1. Write a program to calculate area of shapes. Your program should be capable of calculating the area of a square, rectangle, triangle and a circle. The user should be presented with options to select the shape. Based on which shape is chosed by the user, the program should ask for the appropriate input and print the resulting area on the screen.\n",
    "\n",
    "When the program is run, the screen should display something like this:\n",
    "\n",
    "**Which shape would you like to calculate the area for? Please enter the option number-**<br>\n",
    "**1. Square**<br>\n",
    "**2. Rectangle**<br>\n",
    "**3. Triangle**<br>\n",
    "**4. Circle**<br>\n",
    "**Enter Option: _**\n",
    "\n",
    "Say the user enters the option 1.\n",
    "\n",
    "**Please enter the length of a side: _**\n",
    "\n",
    "If the user enters a value of 5. The output should be:\n",
    "\n",
    "**The area of the square is 25**\n",
    "\n",
    "This program should indicate that the input is invalid if the user enters a character instead of a number as input. For instance if the user enters a value of ‘a’ instead of 5 in the previous example the program should prompt:\n",
    "\n",
    "**Invalid input, please enter a number: _**\n"
   ]
  },
  {
   "cell_type": "code",
   "execution_count": 34,
   "metadata": {},
   "outputs": [
    {
     "name": "stdout",
     "output_type": "stream",
     "text": [
      "Which shape would you like to calculate the area for? Please enter the option number-\n",
      "1. Square\n",
      "2. Rectangle\n",
      "3. Triangle\n",
      "4. Circle\n",
      "\n",
      "Enter Option: 3\n",
      "Enter base of the triangle: 5\n",
      "Enter height of the triangle: 5\n",
      "The area of the triangle is 12.50\n"
     ]
    }
   ],
   "source": [
    "#Area of square\n",
    "def area_square():\n",
    "    l = float((input('Please enter the length of a side: ')))\n",
    "    print('Area of the Square is {}'.format(l*l))\n",
    "    \n",
    "#Area of rectangle    \n",
    "def area_rectangle(): \n",
    "    l = float((input('Please enter the length of a side: ')))\n",
    "    b = float((input('Please enter the breath of a side: ')))\n",
    "    print('Area of the Rectangle is {}'.format(l*b))\n",
    "\n",
    "#Area of triangle    \n",
    "def area_triangle():\n",
    "    b = float(input('Enter base of the triangle: '))  \n",
    "    h = float(input('Enter height of the triangle: '))\n",
    "    print('The area of the triangle is {:.2f}'.format(0.5*h*b))\n",
    "\n",
    "#Area of circle    \n",
    "def area_circle():  \n",
    "    r = float(input('Enter the radius of the circle: '))\n",
    "    print('Area of Circle is {:.2f}'.format(3.14*r*r))\n",
    "    \n",
    "def area_func(option):\n",
    "    if option == '1' or option == '5':\n",
    "        area_square()\n",
    "        \n",
    "    elif option == '2':#Area of Rectabgle\n",
    "        area_rectangle()\n",
    "        \n",
    "    elif option == '3':#Area of Triangle\n",
    "        area_triangle()\n",
    "        \n",
    "    elif option == '4':#Area of Circle\n",
    "        area_circle()\n",
    "    else:\n",
    "        print()\n",
    "        print('Invalid input')\n",
    "        area_func(input('please enter a number: '))    \n",
    "    \n",
    "print('Which shape would you like to calculate the area for? Please enter the option number-')\n",
    "print('1. Square')\n",
    "print('2. Rectangle')\n",
    "print('3. Triangle')\n",
    "print('4. Circle')\n",
    "print('')\n",
    "        \n",
    "#user input for area calculation        \n",
    "option = input('Enter Option: ')\n",
    "\n",
    "#calling function\n",
    "area_func(option)"
   ]
  },
  {
   "cell_type": "markdown",
   "metadata": {},
   "source": [
    "### Problem 2:\n",
    "\n",
    "Create and encrypter in python based on the ceaser cipher. It is a substitution cipher where each character of the original text is shifted a certain number characters in the alphabet. Write a function that would require 2 arguments – the input text to be encrypted and a key. For eg: Given the input text ‘hello’ and the key 3, the resulting encryted text would be ‘khoor’. Here you can see that every character in the string hello is shifted by 3 characters. ‘h’ has shifted to ‘k’, ‘e’ has shifted to ‘h’ and so on. If a key of 5 were used, the resulting string would be ‘mjqqt’. This function should be capable of ignoring any characters which are not alphabets. Th2 character ‘z’ entered b\n",
    "y the user for a key of 3 would result in ‘c’.\n",
    "\n",
    "Usage:<br>\n",
    "**encrypt(‘hello world!’, 3)**<br>\n",
    "**‘khoor zruog!’**\n",
    "\n",
    "Similarly create decrypter which can decode the encryted text when provided the input text and key\n",
    "\n",
    "Usage:<br>\n",
    "**decrypt(‘khoor zruog!’, 3)**<br>\n",
    "**‘hello world!’**\n",
    "\n",
    "For the sake of simplicity you can assume that input solely consists of lowercase alphabets, spaces and punctuation symbols. Numbers in the input text would also be ignored similar to symbols."
   ]
  },
  {
   "cell_type": "code",
   "execution_count": 25,
   "metadata": {},
   "outputs": [],
   "source": [
    "#function to perform Encryption\n",
    "def enc_ceaser_cipher(key_val,*args):\n",
    "    ency_str = ''\n",
    "    for item in args:\n",
    "        #IF condition to handel lower characters\n",
    "        \n",
    "        if item.isalpha(): \n",
    "            #IF condition if ascii value + key_value is greater than z i.e ASCII(123) \n",
    "            if (ord(item)+key_val) >= 123:\n",
    "                val = (ord(item)+key_val) - 122\n",
    "                val = chr(96+val)\n",
    "                ency_str += val\n",
    "                \n",
    "            #ELSE condition if ascii value + key_value is less than z i.e ASCII(123)    \n",
    "            else:\n",
    "                val = ord(item) + key_val\n",
    "                val = chr(val)\n",
    "                ency_str += val\n",
    "        #Else if condition to hande space,special characters and numbers        \n",
    "        elif not item.isalpha():\n",
    "            ency_str += item\n",
    "    return ency_str      "
   ]
  },
  {
   "cell_type": "code",
   "execution_count": 26,
   "metadata": {},
   "outputs": [],
   "source": [
    "#function to perform Decryption\n",
    "\n",
    "def dec_ceaser_cipher(key_val,*args):\n",
    "    dec_str = ''\n",
    "    for item in args:\n",
    "        #IF condition to handel lower characters\n",
    "        \n",
    "        if item.isalpha():\n",
    "            #IF condition if ascii value - key_value is less than z i.e ASCII(97) \n",
    "            if (ord(item)-key_val) < 97:\n",
    "                \n",
    "                val =  97 - (ord(item)-key_val)\n",
    "                val = chr(123-val)\n",
    "                dec_str += val\n",
    "                \n",
    "            #ELSE condition if ascii value - key_value is less than z i.e ASCII(97)    \n",
    "            else:\n",
    "                \n",
    "                val = ord(item) - key_val\n",
    "                val = chr(val)\n",
    "                dec_str += val\n",
    "                \n",
    "        #Else if condition to hande space,special characters and numbers     \n",
    "        elif not item.isalpha():\n",
    "            dec_str += item\n",
    "    return dec_str"
   ]
  },
  {
   "cell_type": "code",
   "execution_count": 35,
   "metadata": {},
   "outputs": [
    {
     "name": "stdout",
     "output_type": "stream",
     "text": [
      "Please enter only lower case values for string Encryption\n",
      "Enter the string to perform Encryption: karthik!@#$~%^&*()_+|}{\n",
      "Enter key value for Encryption: 3\n",
      "\n",
      "Encrypted String: nduwkln!@#$~%^&*()_+|}{\n",
      "\n",
      "Decrypted String: karthik!@#$~%^&*()_+|}{\n"
     ]
    }
   ],
   "source": [
    "print('Please enter only lower case values for string Encryption')\n",
    "\n",
    "#user input string for Encryption\n",
    "str_val = input('Enter the string to perform Encryption: ')\n",
    "#user input key for Encryption\n",
    "key_val = int(input('Enter key value for Encryption: '))\n",
    "print()\n",
    "\n",
    "#calling Encryption function\n",
    "encrypted = enc_ceaser_cipher(key_val,*str_val)\n",
    "print('Encrypted String:',encrypted)\n",
    "print()\n",
    "   \n",
    "#calling Decryption function\n",
    "decrypted = dec_ceaser_cipher(key_val,*encrypted)\n",
    "print('Decrypted String:',decrypted)          "
   ]
  }
 ],
 "metadata": {
  "kernelspec": {
   "display_name": "Python 3",
   "language": "python",
   "name": "python3"
  },
  "language_info": {
   "codemirror_mode": {
    "name": "ipython",
    "version": 3
   },
   "file_extension": ".py",
   "mimetype": "text/x-python",
   "name": "python",
   "nbconvert_exporter": "python",
   "pygments_lexer": "ipython3",
   "version": "3.7.6"
  }
 },
 "nbformat": 4,
 "nbformat_minor": 2
}
